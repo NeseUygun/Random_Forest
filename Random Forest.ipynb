{
 "cells": [
  {
   "cell_type": "code",
   "execution_count": 2,
   "id": "6a096ce8-56e9-443d-9602-41473b4be7f4",
   "metadata": {},
   "outputs": [],
   "source": [
    "import pandas as pd\n",
    "import seaborn\n",
    "dataset=seaborn.load_dataset(\"tips\")"
   ]
  },
  {
   "cell_type": "code",
   "execution_count": 3,
   "id": "05692581-c433-4ef5-8ce6-ec1aaaa581df",
   "metadata": {},
   "outputs": [
    {
     "data": {
      "text/html": [
       "<div>\n",
       "<style scoped>\n",
       "    .dataframe tbody tr th:only-of-type {\n",
       "        vertical-align: middle;\n",
       "    }\n",
       "\n",
       "    .dataframe tbody tr th {\n",
       "        vertical-align: top;\n",
       "    }\n",
       "\n",
       "    .dataframe thead th {\n",
       "        text-align: right;\n",
       "    }\n",
       "</style>\n",
       "<table border=\"1\" class=\"dataframe\">\n",
       "  <thead>\n",
       "    <tr style=\"text-align: right;\">\n",
       "      <th></th>\n",
       "      <th>total_bill</th>\n",
       "      <th>tip</th>\n",
       "      <th>sex</th>\n",
       "      <th>smoker</th>\n",
       "      <th>day</th>\n",
       "      <th>time</th>\n",
       "      <th>size</th>\n",
       "    </tr>\n",
       "  </thead>\n",
       "  <tbody>\n",
       "    <tr>\n",
       "      <th>0</th>\n",
       "      <td>16.99</td>\n",
       "      <td>1.01</td>\n",
       "      <td>Female</td>\n",
       "      <td>No</td>\n",
       "      <td>Sun</td>\n",
       "      <td>Dinner</td>\n",
       "      <td>2</td>\n",
       "    </tr>\n",
       "    <tr>\n",
       "      <th>1</th>\n",
       "      <td>10.34</td>\n",
       "      <td>1.66</td>\n",
       "      <td>Male</td>\n",
       "      <td>No</td>\n",
       "      <td>Sun</td>\n",
       "      <td>Dinner</td>\n",
       "      <td>3</td>\n",
       "    </tr>\n",
       "    <tr>\n",
       "      <th>2</th>\n",
       "      <td>21.01</td>\n",
       "      <td>3.50</td>\n",
       "      <td>Male</td>\n",
       "      <td>No</td>\n",
       "      <td>Sun</td>\n",
       "      <td>Dinner</td>\n",
       "      <td>3</td>\n",
       "    </tr>\n",
       "    <tr>\n",
       "      <th>3</th>\n",
       "      <td>23.68</td>\n",
       "      <td>3.31</td>\n",
       "      <td>Male</td>\n",
       "      <td>No</td>\n",
       "      <td>Sun</td>\n",
       "      <td>Dinner</td>\n",
       "      <td>2</td>\n",
       "    </tr>\n",
       "    <tr>\n",
       "      <th>4</th>\n",
       "      <td>24.59</td>\n",
       "      <td>3.61</td>\n",
       "      <td>Female</td>\n",
       "      <td>No</td>\n",
       "      <td>Sun</td>\n",
       "      <td>Dinner</td>\n",
       "      <td>4</td>\n",
       "    </tr>\n",
       "  </tbody>\n",
       "</table>\n",
       "</div>"
      ],
      "text/plain": [
       "   total_bill   tip     sex smoker  day    time  size\n",
       "0       16.99  1.01  Female     No  Sun  Dinner     2\n",
       "1       10.34  1.66    Male     No  Sun  Dinner     3\n",
       "2       21.01  3.50    Male     No  Sun  Dinner     3\n",
       "3       23.68  3.31    Male     No  Sun  Dinner     2\n",
       "4       24.59  3.61  Female     No  Sun  Dinner     4"
      ]
     },
     "execution_count": 3,
     "metadata": {},
     "output_type": "execute_result"
    }
   ],
   "source": [
    "dataset.head()"
   ]
  },
  {
   "cell_type": "code",
   "execution_count": 5,
   "id": "006e6a2c-2761-41b1-92aa-edf2fc2f44b0",
   "metadata": {},
   "outputs": [
    {
     "data": {
      "text/plain": [
       "['Female', 'Male']\n",
       "Categories (2, object): ['Male', 'Female']"
      ]
     },
     "execution_count": 5,
     "metadata": {},
     "output_type": "execute_result"
    }
   ],
   "source": [
    "dataset[\"sex\"].unique()"
   ]
  },
  {
   "cell_type": "markdown",
   "id": "6a449f63-2a65-4a07-8ac2-2fd0693c6742",
   "metadata": {},
   "source": []
  },
  {
   "cell_type": "code",
   "execution_count": 7,
   "id": "d667e0d5-ffe2-4c6e-b6e1-3c3009fa2463",
   "metadata": {},
   "outputs": [
    {
     "data": {
      "text/plain": [
       "(244, 7)"
      ]
     },
     "execution_count": 7,
     "metadata": {},
     "output_type": "execute_result"
    }
   ],
   "source": [
    "dataset.shape"
   ]
  },
  {
   "cell_type": "code",
   "execution_count": 8,
   "id": "fcf31f35-8c97-4623-8dc2-49a3388cfbac",
   "metadata": {},
   "outputs": [
    {
     "name": "stdout",
     "output_type": "stream",
     "text": [
      "<class 'pandas.core.frame.DataFrame'>\n",
      "RangeIndex: 244 entries, 0 to 243\n",
      "Data columns (total 7 columns):\n",
      " #   Column      Non-Null Count  Dtype   \n",
      "---  ------      --------------  -----   \n",
      " 0   total_bill  244 non-null    float64 \n",
      " 1   tip         244 non-null    float64 \n",
      " 2   sex         244 non-null    category\n",
      " 3   smoker      244 non-null    category\n",
      " 4   day         244 non-null    category\n",
      " 5   time        244 non-null    category\n",
      " 6   size        244 non-null    int64   \n",
      "dtypes: category(4), float64(2), int64(1)\n",
      "memory usage: 7.4 KB\n"
     ]
    }
   ],
   "source": [
    "dataset.info()"
   ]
  },
  {
   "cell_type": "code",
   "execution_count": 9,
   "id": "f5b84c35-6e5c-4824-a215-5872e2791152",
   "metadata": {},
   "outputs": [],
   "source": [
    "from sklearn.preprocessing import LabelEncoder"
   ]
  },
  {
   "cell_type": "code",
   "execution_count": 10,
   "id": "6a50c653-6201-4f34-9403-d776644e891f",
   "metadata": {},
   "outputs": [],
   "source": [
    "encoder = LabelEncoder()"
   ]
  },
  {
   "cell_type": "code",
   "execution_count": 12,
   "id": "c98a003d-edd9-48e9-b4f2-8533c030ea47",
   "metadata": {},
   "outputs": [],
   "source": [
    "dataset[\"time\"] = encoder.fit_transform(dataset[\"time\"])"
   ]
  },
  {
   "cell_type": "code",
   "execution_count": 13,
   "id": "bfda7bc4-2da5-4ab1-9194-1c1253efb64f",
   "metadata": {},
   "outputs": [
    {
     "data": {
      "text/plain": [
       "0    176\n",
       "1     68\n",
       "Name: time, dtype: int64"
      ]
     },
     "execution_count": 13,
     "metadata": {},
     "output_type": "execute_result"
    }
   ],
   "source": [
    "dataset[\"time\"].value_counts()"
   ]
  },
  {
   "cell_type": "code",
   "execution_count": 16,
   "id": "6886ba5d-b29f-4aec-9b57-a0d612375d2e",
   "metadata": {},
   "outputs": [],
   "source": [
    "#segregate dependent and independent features\n",
    "x = dataset.drop(\"time\", axis=1)\n",
    "y = dataset[\"time\"]"
   ]
  },
  {
   "cell_type": "code",
   "execution_count": 17,
   "id": "502b65d3-01dc-4dde-ae6d-f6516fa50bd0",
   "metadata": {},
   "outputs": [],
   "source": [
    "from sklearn.model_selection import train_test_split\n",
    "X_train,X_test,y_train,y_test = train_test_split(x,y,test_size=0.2,random_state=42)"
   ]
  },
  {
   "cell_type": "code",
   "execution_count": 18,
   "id": "3ef613d8-32ad-459c-a689-8ce1ad158141",
   "metadata": {},
   "outputs": [],
   "source": [
    "from sklearn.impute import SimpleImputer\n",
    "from sklearn.preprocessing import StandardScaler\n",
    "from sklearn.preprocessing import OneHotEncoder\n",
    "from sklearn.pipeline import Pipeline\n",
    "from sklearn.compose import ColumnTransformer"
   ]
  },
  {
   "cell_type": "code",
   "execution_count": 19,
   "id": "34884993-b22e-49d4-b019-d066fcce796f",
   "metadata": {},
   "outputs": [
    {
     "data": {
      "text/plain": [
       "Index(['total_bill', 'tip', 'sex', 'smoker', 'day', 'time', 'size'], dtype='object')"
      ]
     },
     "execution_count": 19,
     "metadata": {},
     "output_type": "execute_result"
    }
   ],
   "source": [
    "dataset.columns"
   ]
  },
  {
   "cell_type": "code",
   "execution_count": 20,
   "id": "0c0b1110-bf49-4dd2-8623-9ee1afc82422",
   "metadata": {
    "tags": []
   },
   "outputs": [
    {
     "name": "stdout",
     "output_type": "stream",
     "text": [
      "<class 'pandas.core.frame.DataFrame'>\n",
      "RangeIndex: 244 entries, 0 to 243\n",
      "Data columns (total 7 columns):\n",
      " #   Column      Non-Null Count  Dtype   \n",
      "---  ------      --------------  -----   \n",
      " 0   total_bill  244 non-null    float64 \n",
      " 1   tip         244 non-null    float64 \n",
      " 2   sex         244 non-null    category\n",
      " 3   smoker      244 non-null    category\n",
      " 4   day         244 non-null    category\n",
      " 5   time        244 non-null    int64   \n",
      " 6   size        244 non-null    int64   \n",
      "dtypes: category(3), float64(2), int64(2)\n",
      "memory usage: 8.9 KB\n"
     ]
    }
   ],
   "source": [
    "dataset.info()"
   ]
  },
  {
   "cell_type": "code",
   "execution_count": 29,
   "id": "dfb23d93-838a-429a-99a5-9d67203b5217",
   "metadata": {},
   "outputs": [],
   "source": [
    "categorical_column = [\"sex\", \"smoker\", \"day\"]\n",
    "numeric_column = [\"total_bill\", \"tip\", \"size\"]"
   ]
  },
  {
   "cell_type": "code",
   "execution_count": 24,
   "id": "b6d2c6ae-5f66-49e9-a360-a1831913eeb9",
   "metadata": {
    "tags": []
   },
   "outputs": [
    {
     "data": {
      "text/html": [
       "<div>\n",
       "<style scoped>\n",
       "    .dataframe tbody tr th:only-of-type {\n",
       "        vertical-align: middle;\n",
       "    }\n",
       "\n",
       "    .dataframe tbody tr th {\n",
       "        vertical-align: top;\n",
       "    }\n",
       "\n",
       "    .dataframe thead th {\n",
       "        text-align: right;\n",
       "    }\n",
       "</style>\n",
       "<table border=\"1\" class=\"dataframe\">\n",
       "  <thead>\n",
       "    <tr style=\"text-align: right;\">\n",
       "      <th></th>\n",
       "      <th>sex</th>\n",
       "      <th>smoker</th>\n",
       "      <th>day</th>\n",
       "    </tr>\n",
       "  </thead>\n",
       "  <tbody>\n",
       "    <tr>\n",
       "      <th>0</th>\n",
       "      <td>Female</td>\n",
       "      <td>No</td>\n",
       "      <td>Sun</td>\n",
       "    </tr>\n",
       "    <tr>\n",
       "      <th>1</th>\n",
       "      <td>Male</td>\n",
       "      <td>No</td>\n",
       "      <td>Sun</td>\n",
       "    </tr>\n",
       "    <tr>\n",
       "      <th>2</th>\n",
       "      <td>Male</td>\n",
       "      <td>No</td>\n",
       "      <td>Sun</td>\n",
       "    </tr>\n",
       "    <tr>\n",
       "      <th>3</th>\n",
       "      <td>Male</td>\n",
       "      <td>No</td>\n",
       "      <td>Sun</td>\n",
       "    </tr>\n",
       "    <tr>\n",
       "      <th>4</th>\n",
       "      <td>Female</td>\n",
       "      <td>No</td>\n",
       "      <td>Sun</td>\n",
       "    </tr>\n",
       "    <tr>\n",
       "      <th>...</th>\n",
       "      <td>...</td>\n",
       "      <td>...</td>\n",
       "      <td>...</td>\n",
       "    </tr>\n",
       "    <tr>\n",
       "      <th>239</th>\n",
       "      <td>Male</td>\n",
       "      <td>No</td>\n",
       "      <td>Sat</td>\n",
       "    </tr>\n",
       "    <tr>\n",
       "      <th>240</th>\n",
       "      <td>Female</td>\n",
       "      <td>Yes</td>\n",
       "      <td>Sat</td>\n",
       "    </tr>\n",
       "    <tr>\n",
       "      <th>241</th>\n",
       "      <td>Male</td>\n",
       "      <td>Yes</td>\n",
       "      <td>Sat</td>\n",
       "    </tr>\n",
       "    <tr>\n",
       "      <th>242</th>\n",
       "      <td>Male</td>\n",
       "      <td>No</td>\n",
       "      <td>Sat</td>\n",
       "    </tr>\n",
       "    <tr>\n",
       "      <th>243</th>\n",
       "      <td>Female</td>\n",
       "      <td>No</td>\n",
       "      <td>Thur</td>\n",
       "    </tr>\n",
       "  </tbody>\n",
       "</table>\n",
       "<p>244 rows × 3 columns</p>\n",
       "</div>"
      ],
      "text/plain": [
       "        sex smoker   day\n",
       "0    Female     No   Sun\n",
       "1      Male     No   Sun\n",
       "2      Male     No   Sun\n",
       "3      Male     No   Sun\n",
       "4    Female     No   Sun\n",
       "..      ...    ...   ...\n",
       "239    Male     No   Sat\n",
       "240  Female    Yes   Sat\n",
       "241    Male    Yes   Sat\n",
       "242    Male     No   Sat\n",
       "243  Female     No  Thur\n",
       "\n",
       "[244 rows x 3 columns]"
      ]
     },
     "execution_count": 24,
     "metadata": {},
     "output_type": "execute_result"
    }
   ],
   "source": [
    "dataset[category_column]"
   ]
  },
  {
   "cell_type": "code",
   "execution_count": 26,
   "id": "d046ab7b-bd72-45a8-a228-407528c72ff3",
   "metadata": {
    "tags": []
   },
   "outputs": [
    {
     "data": {
      "text/html": [
       "<div>\n",
       "<style scoped>\n",
       "    .dataframe tbody tr th:only-of-type {\n",
       "        vertical-align: middle;\n",
       "    }\n",
       "\n",
       "    .dataframe tbody tr th {\n",
       "        vertical-align: top;\n",
       "    }\n",
       "\n",
       "    .dataframe thead th {\n",
       "        text-align: right;\n",
       "    }\n",
       "</style>\n",
       "<table border=\"1\" class=\"dataframe\">\n",
       "  <thead>\n",
       "    <tr style=\"text-align: right;\">\n",
       "      <th></th>\n",
       "      <th>total_bill</th>\n",
       "      <th>tip</th>\n",
       "      <th>size</th>\n",
       "    </tr>\n",
       "  </thead>\n",
       "  <tbody>\n",
       "    <tr>\n",
       "      <th>0</th>\n",
       "      <td>16.99</td>\n",
       "      <td>1.01</td>\n",
       "      <td>2</td>\n",
       "    </tr>\n",
       "    <tr>\n",
       "      <th>1</th>\n",
       "      <td>10.34</td>\n",
       "      <td>1.66</td>\n",
       "      <td>3</td>\n",
       "    </tr>\n",
       "    <tr>\n",
       "      <th>2</th>\n",
       "      <td>21.01</td>\n",
       "      <td>3.50</td>\n",
       "      <td>3</td>\n",
       "    </tr>\n",
       "    <tr>\n",
       "      <th>3</th>\n",
       "      <td>23.68</td>\n",
       "      <td>3.31</td>\n",
       "      <td>2</td>\n",
       "    </tr>\n",
       "    <tr>\n",
       "      <th>4</th>\n",
       "      <td>24.59</td>\n",
       "      <td>3.61</td>\n",
       "      <td>4</td>\n",
       "    </tr>\n",
       "    <tr>\n",
       "      <th>...</th>\n",
       "      <td>...</td>\n",
       "      <td>...</td>\n",
       "      <td>...</td>\n",
       "    </tr>\n",
       "    <tr>\n",
       "      <th>239</th>\n",
       "      <td>29.03</td>\n",
       "      <td>5.92</td>\n",
       "      <td>3</td>\n",
       "    </tr>\n",
       "    <tr>\n",
       "      <th>240</th>\n",
       "      <td>27.18</td>\n",
       "      <td>2.00</td>\n",
       "      <td>2</td>\n",
       "    </tr>\n",
       "    <tr>\n",
       "      <th>241</th>\n",
       "      <td>22.67</td>\n",
       "      <td>2.00</td>\n",
       "      <td>2</td>\n",
       "    </tr>\n",
       "    <tr>\n",
       "      <th>242</th>\n",
       "      <td>17.82</td>\n",
       "      <td>1.75</td>\n",
       "      <td>2</td>\n",
       "    </tr>\n",
       "    <tr>\n",
       "      <th>243</th>\n",
       "      <td>18.78</td>\n",
       "      <td>3.00</td>\n",
       "      <td>2</td>\n",
       "    </tr>\n",
       "  </tbody>\n",
       "</table>\n",
       "<p>244 rows × 3 columns</p>\n",
       "</div>"
      ],
      "text/plain": [
       "     total_bill   tip  size\n",
       "0         16.99  1.01     2\n",
       "1         10.34  1.66     3\n",
       "2         21.01  3.50     3\n",
       "3         23.68  3.31     2\n",
       "4         24.59  3.61     4\n",
       "..          ...   ...   ...\n",
       "239       29.03  5.92     3\n",
       "240       27.18  2.00     2\n",
       "241       22.67  2.00     2\n",
       "242       17.82  1.75     2\n",
       "243       18.78  3.00     2\n",
       "\n",
       "[244 rows x 3 columns]"
      ]
     },
     "execution_count": 26,
     "metadata": {},
     "output_type": "execute_result"
    }
   ],
   "source": [
    "dataset[numeric_column]"
   ]
  },
  {
   "cell_type": "code",
   "execution_count": 28,
   "id": "e557e356-986c-42db-b39a-79caf1ce79b1",
   "metadata": {},
   "outputs": [],
   "source": [
    "#handling numerical features\n",
    "numeric_pipeline = Pipeline(\n",
    "    steps=[\n",
    "        (\"imputer\", SimpleImputer(strategy=\"median\")), #handling missing values\n",
    "        (\"scaler\", StandardScaler()) #scaling features\n",
    "    ]\n",
    ")\n",
    "#handling categorical features\n",
    "categoric_pipeline = Pipeline(   \n",
    "    steps=[\n",
    "        (\"imputer\", SimpleImputer(strategy=\"most_frequent\")), #handling missing values\n",
    "        (\"onehotencoder\", OneHotEncoder()) #conver categorical values into numeric\n",
    "    ]\n",
    ")"
   ]
  },
  {
   "cell_type": "code",
   "execution_count": 30,
   "id": "61882c8b-01dc-4cc0-96b0-22fc991905cc",
   "metadata": {},
   "outputs": [],
   "source": [
    "preprocessor = ColumnTransformer([\n",
    "    (\"num_pipeline\",numeric_pipeline,numeric_column),\n",
    "    (\"cat_pipeline\",categoric_pipeline,categorical_column)\n",
    "])  "
   ]
  },
  {
   "cell_type": "code",
   "execution_count": 32,
   "id": "cde65eb5-5efa-47d0-ad38-0a42727d4793",
   "metadata": {},
   "outputs": [],
   "source": [
    "X_train=preprocessor.fit_transform(X_train)"
   ]
  },
  {
   "cell_type": "code",
   "execution_count": 34,
   "id": "4644b7aa-e534-4d61-9848-cac7450ad836",
   "metadata": {},
   "outputs": [],
   "source": [
    "X_test=preprocessor.transform(X_test)"
   ]
  },
  {
   "cell_type": "code",
   "execution_count": 39,
   "id": "37dab254-32d6-4c6b-a7f7-b3bcee8a2cc6",
   "metadata": {},
   "outputs": [],
   "source": [
    "from sklearn.ensemble import RandomForestClassifier\n",
    "from sklearn.tree import DecisionTreeClassifier\n",
    "from sklearn.svm import SVC\n",
    "from sklearn.metrics import accuracy_score"
   ]
  },
  {
   "cell_type": "code",
   "execution_count": 40,
   "id": "c3a212d6-c2ce-4201-b128-28b6b21d797c",
   "metadata": {},
   "outputs": [],
   "source": [
    "models = {\n",
    "    \"Random_Forest\":RandomForestClassifier(),\n",
    "    \"Decision_Tree\":DecisionTreeClassifier(),\n",
    "    \"SVC\":SVC()\n",
    "}"
   ]
  },
  {
   "cell_type": "code",
   "execution_count": 52,
   "id": "a7f64a1a-4d73-4a96-b4c6-2ec69a02928d",
   "metadata": {},
   "outputs": [],
   "source": [
    "#base model\n",
    "def evaluate_model(X_train,X_test,y_train,y_test,models):\n",
    "    report = {}\n",
    "    for i in range(len(models)):\n",
    "        model = list(models.values())[i]\n",
    "        model.fit(X_train, y_train)\n",
    "        y_pred = model.predict(X_test)\n",
    "        acc_score = round(accuracy_score(y_test,y_pred)*100,4)\n",
    "        report[list(models.keys())[i]] = acc_score\n",
    "    return report\n",
    "    "
   ]
  },
  {
   "cell_type": "code",
   "execution_count": 53,
   "id": "660da2f9-c482-4d23-b17b-91a9459fbc3a",
   "metadata": {
    "tags": []
   },
   "outputs": [
    {
     "data": {
      "text/plain": [
       "{'Random_Forest': 95.9184, 'Decision_Tree': 93.8776, 'SVC': 95.9184}"
      ]
     },
     "execution_count": 53,
     "metadata": {},
     "output_type": "execute_result"
    }
   ],
   "source": [
    "evaluate_model(X_train,X_test,y_train,y_test,models)"
   ]
  },
  {
   "cell_type": "code",
   "execution_count": 60,
   "id": "7f7bd656-c294-43ca-b40f-26a17eea96e0",
   "metadata": {},
   "outputs": [],
   "source": [
    "#hyperparameter tunning\n",
    "classifier = RandomForestClassifier()\n",
    "params = {\n",
    "    \"max_depth\":[2,3,5,8,12],\n",
    "    \"n_estimators\":[100,200,300,600],\n",
    "    \"criterion\":[\"gini\",\"entropy\"],\n",
    "    \"max_features\":[\"sqrt\",\"log2\"]\n",
    "}\n"
   ]
  },
  {
   "cell_type": "code",
   "execution_count": 61,
   "id": "4233ee92-f5d1-4e33-bea3-101118eb7d6f",
   "metadata": {},
   "outputs": [],
   "source": [
    "from sklearn.model_selection import GridSearchCV"
   ]
  },
  {
   "cell_type": "code",
   "execution_count": 62,
   "id": "eea501da-5a19-4ada-81b0-c352f5260acd",
   "metadata": {},
   "outputs": [],
   "source": [
    "tunning_model=GridSearchCV(classifier, params, scoring=\"accuracy\", cv=5,verbose=3,n_jobs=-1)"
   ]
  },
  {
   "cell_type": "code",
   "execution_count": 63,
   "id": "b871c85f-4a62-4476-b870-2c4c63881329",
   "metadata": {},
   "outputs": [
    {
     "name": "stdout",
     "output_type": "stream",
     "text": [
      "Fitting 5 folds for each of 80 candidates, totalling 400 fits\n"
     ]
    },
    {
     "data": {
      "text/plain": [
       "GridSearchCV(cv=5, estimator=RandomForestClassifier(), n_jobs=-1,\n",
       "             param_grid={'criterion': ['gini', 'entropy'],\n",
       "                         'max_depth': [2, 3, 5, 8, 12],\n",
       "                         'max_features': ['sqrt', 'log2'],\n",
       "                         'n_estimators': [100, 200, 300, 600]},\n",
       "             scoring='accuracy', verbose=3)"
      ]
     },
     "execution_count": 63,
     "metadata": {},
     "output_type": "execute_result"
    }
   ],
   "source": [
    "tunning_model.fit(X_train,y_train)"
   ]
  },
  {
   "cell_type": "code",
   "execution_count": 65,
   "id": "677d39d3-2065-41cc-a0f3-65aee311deee",
   "metadata": {},
   "outputs": [
    {
     "data": {
      "text/plain": [
       "{'criterion': 'gini',\n",
       " 'max_depth': 2,\n",
       " 'max_features': 'sqrt',\n",
       " 'n_estimators': 100}"
      ]
     },
     "execution_count": 65,
     "metadata": {},
     "output_type": "execute_result"
    }
   ],
   "source": [
    "tunning_model.best_params_"
   ]
  },
  {
   "cell_type": "code",
   "execution_count": 66,
   "id": "a4113a7b-f30b-473d-9e24-3e4b2871f79f",
   "metadata": {},
   "outputs": [],
   "source": [
    "classifier = RandomForestClassifier(criterion='gini',max_depth=2,max_features='sqrt',n_estimators=100)"
   ]
  },
  {
   "cell_type": "code",
   "execution_count": 67,
   "id": "af1d4e77-e427-47e1-a64a-e289cff011a4",
   "metadata": {},
   "outputs": [
    {
     "data": {
      "text/plain": [
       "RandomForestClassifier(max_depth=2, max_features='sqrt')"
      ]
     },
     "execution_count": 67,
     "metadata": {},
     "output_type": "execute_result"
    }
   ],
   "source": [
    "classifier.fit(X_train,y_train)"
   ]
  },
  {
   "cell_type": "code",
   "execution_count": 68,
   "id": "0e3f1b31-9861-4cbd-b444-e4c0c5cacfc7",
   "metadata": {},
   "outputs": [],
   "source": [
    "y_pred=classifier.predict(X_test)"
   ]
  },
  {
   "cell_type": "code",
   "execution_count": 69,
   "id": "6948b5ab-2a8d-4355-acaa-2f7275a66fdc",
   "metadata": {
    "tags": []
   },
   "outputs": [
    {
     "data": {
      "text/plain": [
       "1.0"
      ]
     },
     "execution_count": 69,
     "metadata": {},
     "output_type": "execute_result"
    },
    {
     "name": "stdout",
     "output_type": "stream",
     "text": [
      "[CV 3/5] END criterion=gini, max_depth=2, max_features=sqrt, n_estimators=200;, score=0.974 total time=   0.2s\n",
      "[CV 5/5] END criterion=gini, max_depth=2, max_features=sqrt, n_estimators=300;, score=0.949 total time=   0.3s\n",
      "[CV 3/5] END criterion=gini, max_depth=2, max_features=log2, n_estimators=100;, score=0.974 total time=   0.1s\n",
      "[CV 1/5] END criterion=gini, max_depth=2, max_features=log2, n_estimators=200;, score=0.974 total time=   0.3s\n",
      "[CV 1/5] END criterion=gini, max_depth=2, max_features=log2, n_estimators=300;, score=0.974 total time=   0.4s\n",
      "[CV 4/5] END criterion=gini, max_depth=2, max_features=log2, n_estimators=600;, score=0.923 total time=   0.7s\n",
      "[CV 1/5] END criterion=gini, max_depth=3, max_features=sqrt, n_estimators=600;, score=0.974 total time=   0.7s\n",
      "[CV 2/5] END criterion=gini, max_depth=3, max_features=log2, n_estimators=300;, score=0.949 total time=   0.3s\n",
      "[CV 5/5] END criterion=gini, max_depth=3, max_features=log2, n_estimators=600;, score=0.949 total time=   0.7s\n",
      "[CV 3/5] END criterion=gini, max_depth=5, max_features=sqrt, n_estimators=600;, score=0.974 total time=   0.7s\n",
      "[CV 4/5] END criterion=gini, max_depth=5, max_features=log2, n_estimators=300;, score=0.949 total time=   0.4s\n",
      "[CV 1/5] END criterion=gini, max_depth=8, max_features=sqrt, n_estimators=100;, score=0.974 total time=   0.1s\n",
      "[CV 4/5] END criterion=gini, max_depth=8, max_features=sqrt, n_estimators=100;, score=0.949 total time=   0.1s\n",
      "[CV 2/5] END criterion=gini, max_depth=8, max_features=sqrt, n_estimators=200;, score=0.923 total time=   0.3s\n",
      "[CV 4/5] END criterion=gini, max_depth=8, max_features=sqrt, n_estimators=200;, score=0.923 total time=   0.3s\n",
      "[CV 2/5] END criterion=gini, max_depth=8, max_features=sqrt, n_estimators=600;, score=0.923 total time=   0.9s\n",
      "[CV 4/5] END criterion=gini, max_depth=8, max_features=log2, n_estimators=300;, score=0.949 total time=   0.4s\n",
      "[CV 3/5] END criterion=gini, max_depth=12, max_features=sqrt, n_estimators=100;, score=1.000 total time=   0.1s\n",
      "[CV 1/5] END criterion=gini, max_depth=12, max_features=sqrt, n_estimators=200;, score=0.974 total time=   0.2s\n",
      "[CV 4/5] END criterion=gini, max_depth=12, max_features=sqrt, n_estimators=200;, score=0.949 total time=   0.2s\n",
      "[CV 1/5] END criterion=gini, max_depth=12, max_features=sqrt, n_estimators=600;, score=0.974 total time=   0.7s\n",
      "[CV 2/5] END criterion=gini, max_depth=12, max_features=log2, n_estimators=300;, score=0.923 total time=   0.3s\n",
      "[CV 5/5] END criterion=gini, max_depth=12, max_features=log2, n_estimators=600;, score=0.923 total time=   0.7s\n",
      "[CV 2/5] END criterion=entropy, max_depth=2, max_features=sqrt, n_estimators=600;, score=0.974 total time=   0.7s\n",
      "[CV 1/5] END criterion=entropy, max_depth=2, max_features=log2, n_estimators=300;, score=0.974 total time=   0.3s\n",
      "[CV 4/5] END criterion=entropy, max_depth=2, max_features=log2, n_estimators=600;, score=0.923 total time=   0.7s\n",
      "[CV 5/5] END criterion=entropy, max_depth=3, max_features=sqrt, n_estimators=300;, score=0.923 total time=   0.3s\n",
      "[CV 4/5] END criterion=entropy, max_depth=3, max_features=log2, n_estimators=100;, score=0.923 total time=   0.1s\n",
      "[CV 1/5] END criterion=entropy, max_depth=3, max_features=log2, n_estimators=200;, score=0.974 total time=   0.2s\n",
      "[CV 5/5] END criterion=entropy, max_depth=3, max_features=log2, n_estimators=200;, score=0.923 total time=   0.2s\n",
      "[CV 3/5] END criterion=entropy, max_depth=3, max_features=log2, n_estimators=600;, score=0.974 total time=   0.6s\n",
      "[CV 3/5] END criterion=entropy, max_depth=5, max_features=sqrt, n_estimators=300;, score=0.974 total time=   0.3s\n",
      "[CV 1/5] END criterion=entropy, max_depth=5, max_features=log2, n_estimators=100;, score=0.974 total time=   0.1s\n",
      "[CV 4/5] END criterion=entropy, max_depth=5, max_features=log2, n_estimators=100;, score=0.949 total time=   0.1s\n",
      "[CV 2/5] END criterion=entropy, max_depth=5, max_features=log2, n_estimators=200;, score=0.923 total time=   0.2s\n",
      "[CV 5/5] END criterion=entropy, max_depth=5, max_features=log2, n_estimators=200;, score=0.923 total time=   0.2s\n",
      "[CV 2/5] END criterion=entropy, max_depth=5, max_features=log2, n_estimators=600;, score=0.923 total time=   0.7s\n",
      "[CV 3/5] END criterion=entropy, max_depth=8, max_features=sqrt, n_estimators=300;, score=1.000 total time=   0.3s\n",
      "[CV 1/5] END criterion=entropy, max_depth=8, max_features=log2, n_estimators=100;, score=0.974 total time=   0.1s\n",
      "[CV 4/5] END criterion=entropy, max_depth=8, max_features=log2, n_estimators=100;, score=0.897 total time=   0.1s\n",
      "[CV 2/5] END criterion=entropy, max_depth=8, max_features=log2, n_estimators=200;, score=0.923 total time=   0.2s\n",
      "[CV 5/5] END criterion=entropy, max_depth=8, max_features=log2, n_estimators=200;, score=0.923 total time=   0.2s\n",
      "[CV 2/5] END criterion=entropy, max_depth=8, max_features=log2, n_estimators=600;, score=0.923 total time=   0.7s\n",
      "[CV 3/5] END criterion=entropy, max_depth=12, max_features=sqrt, n_estimators=300;, score=1.000 total time=   0.3s\n",
      "[CV 1/5] END criterion=entropy, max_depth=12, max_features=log2, n_estimators=100;, score=0.974 total time=   0.1s\n",
      "[CV 4/5] END criterion=entropy, max_depth=12, max_features=log2, n_estimators=100;, score=0.923 total time=   0.1s\n",
      "[CV 2/5] END criterion=entropy, max_depth=12, max_features=log2, n_estimators=200;, score=0.923 total time=   0.2s\n",
      "[CV 2/5] END criterion=entropy, max_depth=12, max_features=log2, n_estimators=300;, score=0.923 total time=   0.3s\n",
      "[CV 5/5] END criterion=gini, max_depth=2, max_features=sqrt, n_estimators=100;, score=0.949 total time=   0.1s\n",
      "[CV 5/5] END criterion=gini, max_depth=2, max_features=sqrt, n_estimators=200;, score=0.949 total time=   0.2s\n",
      "[CV 3/5] END criterion=gini, max_depth=2, max_features=sqrt, n_estimators=600;, score=0.974 total time=   0.8s\n",
      "[CV 4/5] END criterion=gini, max_depth=2, max_features=log2, n_estimators=300;, score=0.923 total time=   0.3s\n",
      "[CV 2/5] END criterion=gini, max_depth=3, max_features=sqrt, n_estimators=100;, score=0.974 total time=   0.1s\n",
      "[CV 5/5] END criterion=gini, max_depth=3, max_features=sqrt, n_estimators=100;, score=0.923 total time=   0.1s\n",
      "[CV 3/5] END criterion=gini, max_depth=3, max_features=sqrt, n_estimators=200;, score=0.974 total time=   0.2s\n",
      "[CV 3/5] END criterion=gini, max_depth=3, max_features=sqrt, n_estimators=300;, score=0.974 total time=   0.3s\n",
      "[CV 1/5] END criterion=gini, max_depth=3, max_features=log2, n_estimators=100;, score=0.974 total time=   0.1s\n",
      "[CV 3/5] END criterion=gini, max_depth=3, max_features=log2, n_estimators=100;, score=0.974 total time=   0.1s\n",
      "[CV 1/5] END criterion=gini, max_depth=3, max_features=log2, n_estimators=200;, score=0.974 total time=   0.2s\n",
      "[CV 4/5] END criterion=gini, max_depth=3, max_features=log2, n_estimators=200;, score=0.923 total time=   0.2s\n",
      "[CV 2/5] END criterion=gini, max_depth=3, max_features=log2, n_estimators=600;, score=0.949 total time=   0.6s\n",
      "[CV 4/5] END criterion=gini, max_depth=5, max_features=sqrt, n_estimators=200;, score=0.923 total time=   0.2s\n",
      "[CV 5/5] END criterion=gini, max_depth=5, max_features=sqrt, n_estimators=300;, score=0.949 total time=   0.3s\n",
      "[CV 4/5] END criterion=gini, max_depth=5, max_features=log2, n_estimators=100;, score=0.923 total time=   0.1s\n",
      "[CV 2/5] END criterion=gini, max_depth=5, max_features=log2, n_estimators=200;, score=0.923 total time=   0.2s\n",
      "[CV 1/5] END criterion=gini, max_depth=5, max_features=log2, n_estimators=300;, score=0.974 total time=   0.4s\n",
      "[CV 4/5] END criterion=gini, max_depth=5, max_features=log2, n_estimators=600;, score=0.923 total time=   0.8s\n",
      "[CV 5/5] END criterion=gini, max_depth=8, max_features=sqrt, n_estimators=300;, score=0.923 total time=   0.4s\n",
      "[CV 3/5] END criterion=gini, max_depth=8, max_features=log2, n_estimators=100;, score=1.000 total time=   0.2s\n",
      "[CV 1/5] END criterion=gini, max_depth=8, max_features=log2, n_estimators=200;, score=0.974 total time=   0.3s\n",
      "[CV 4/5] END criterion=gini, max_depth=8, max_features=log2, n_estimators=200;, score=0.923 total time=   0.3s\n",
      "[CV 2/5] END criterion=gini, max_depth=8, max_features=log2, n_estimators=600;, score=0.923 total time=   0.7s\n",
      "[CV 3/5] END criterion=gini, max_depth=12, max_features=sqrt, n_estimators=300;, score=0.974 total time=   0.3s\n",
      "[CV 1/5] END criterion=gini, max_depth=12, max_features=log2, n_estimators=100;, score=0.974 total time=   0.1s\n",
      "[CV 2/5] END criterion=gini, max_depth=12, max_features=log2, n_estimators=100;, score=0.923 total time=   0.1s\n",
      "[CV 5/5] END criterion=gini, max_depth=12, max_features=log2, n_estimators=100;, score=0.949 total time=   0.1s\n",
      "[CV 3/5] END criterion=gini, max_depth=12, max_features=log2, n_estimators=200;, score=1.000 total time=   0.2s\n",
      "[CV 4/5] END criterion=gini, max_depth=12, max_features=log2, n_estimators=300;, score=0.949 total time=   0.3s\n",
      "[CV 2/5] END criterion=entropy, max_depth=2, max_features=sqrt, n_estimators=100;, score=0.974 total time=   0.1s\n",
      "[CV 5/5] END criterion=entropy, max_depth=2, max_features=sqrt, n_estimators=100;, score=0.949 total time=   0.1s\n",
      "[CV 3/5] END criterion=entropy, max_depth=2, max_features=sqrt, n_estimators=200;, score=0.974 total time=   0.2s\n",
      "[CV 2/5] END criterion=entropy, max_depth=2, max_features=sqrt, n_estimators=300;, score=0.974 total time=   0.3s\n",
      "[CV 5/5] END criterion=entropy, max_depth=2, max_features=sqrt, n_estimators=600;, score=0.949 total time=   0.6s\n",
      "[CV 2/5] END criterion=entropy, max_depth=2, max_features=log2, n_estimators=600;, score=0.974 total time=   0.6s\n",
      "[CV 2/5] END criterion=entropy, max_depth=3, max_features=sqrt, n_estimators=300;, score=0.974 total time=   0.3s\n",
      "[CV 5/5] END criterion=entropy, max_depth=3, max_features=sqrt, n_estimators=600;, score=0.949 total time=   0.6s\n",
      "[CV 5/5] END criterion=entropy, max_depth=3, max_features=log2, n_estimators=300;, score=0.923 total time=   0.3s\n",
      "[CV 3/5] END criterion=entropy, max_depth=5, max_features=sqrt, n_estimators=100;, score=0.974 total time=   0.1s\n",
      "[CV 1/5] END criterion=entropy, max_depth=5, max_features=sqrt, n_estimators=200;, score=0.974 total time=   0.2s\n",
      "[CV 4/5] END criterion=entropy, max_depth=5, max_features=sqrt, n_estimators=200;, score=0.923 total time=   0.2s\n",
      "[CV 1/5] END criterion=entropy, max_depth=5, max_features=sqrt, n_estimators=600;, score=0.974 total time=   0.7s\n",
      "[CV 2/5] END criterion=entropy, max_depth=5, max_features=log2, n_estimators=300;, score=0.923 total time=   0.3s\n",
      "[CV 5/5] END criterion=entropy, max_depth=5, max_features=log2, n_estimators=600;, score=0.949 total time=   0.6s\n",
      "[CV 4/5] END criterion=entropy, max_depth=8, max_features=sqrt, n_estimators=300;, score=0.949 total time=   0.3s\n",
      "[CV 2/5] END criterion=entropy, max_depth=8, max_features=log2, n_estimators=100;, score=0.923 total time=   0.1s\n",
      "[CV 5/5] END criterion=entropy, max_depth=8, max_features=log2, n_estimators=100;, score=0.923 total time=   0.1s\n",
      "[CV 3/5] END criterion=entropy, max_depth=8, max_features=log2, n_estimators=200;, score=1.000 total time=   0.2s\n",
      "[CV 4/5] END criterion=entropy, max_depth=8, max_features=log2, n_estimators=300;, score=0.949 total time=   0.3s\n",
      "[CV 2/5] END criterion=entropy, max_depth=12, max_features=sqrt, n_estimators=100;, score=0.923 total time=   0.1s\n",
      "[CV 5/5] END criterion=entropy, max_depth=12, max_features=sqrt, n_estimators=100;, score=0.923 total time=   0.1s\n",
      "[CV 2/5] END criterion=entropy, max_depth=12, max_features=sqrt, n_estimators=200;, score=0.923 total time=   0.2s\n",
      "[CV 1/5] END criterion=entropy, max_depth=12, max_features=sqrt, n_estimators=300;, score=0.974 total time=   0.3s\n",
      "[CV 4/5] END criterion=entropy, max_depth=12, max_features=sqrt, n_estimators=600;, score=0.949 total time=   0.6s\n",
      "[CV 5/5] END criterion=entropy, max_depth=12, max_features=log2, n_estimators=300;, score=0.923 total time=   0.3s\n",
      "[CV 2/5] END criterion=gini, max_depth=2, max_features=sqrt, n_estimators=100;, score=0.974 total time=   0.1s\n",
      "[CV 1/5] END criterion=gini, max_depth=2, max_features=sqrt, n_estimators=300;, score=0.974 total time=   0.3s\n",
      "[CV 4/5] END criterion=gini, max_depth=2, max_features=sqrt, n_estimators=600;, score=0.923 total time=   0.7s\n",
      "[CV 1/5] END criterion=gini, max_depth=2, max_features=log2, n_estimators=600;, score=0.974 total time=   0.7s\n",
      "[CV 5/5] END criterion=gini, max_depth=3, max_features=sqrt, n_estimators=200;, score=0.923 total time=   0.2s\n",
      "[CV 3/5] END criterion=gini, max_depth=3, max_features=sqrt, n_estimators=600;, score=0.974 total time=   0.7s\n",
      "[CV 4/5] END criterion=gini, max_depth=3, max_features=log2, n_estimators=300;, score=0.923 total time=   0.3s\n",
      "[CV 1/5] END criterion=gini, max_depth=5, max_features=sqrt, n_estimators=100;, score=0.974 total time=   0.1s\n",
      "[CV 5/5] END criterion=gini, max_depth=5, max_features=sqrt, n_estimators=100;, score=0.949 total time=   0.1s\n",
      "[CV 2/5] END criterion=gini, max_depth=5, max_features=sqrt, n_estimators=200;, score=0.923 total time=   0.2s\n",
      "[CV 5/5] END criterion=gini, max_depth=5, max_features=sqrt, n_estimators=200;, score=0.923 total time=   0.2s\n",
      "[CV 2/5] END criterion=gini, max_depth=5, max_features=sqrt, n_estimators=600;, score=0.923 total time=   0.6s\n",
      "[CV 5/5] END criterion=gini, max_depth=5, max_features=log2, n_estimators=200;, score=0.949 total time=   0.3s\n",
      "[CV 3/5] END criterion=gini, max_depth=5, max_features=log2, n_estimators=600;, score=0.974 total time=   0.8s\n",
      "[CV 2/5] END criterion=gini, max_depth=8, max_features=sqrt, n_estimators=300;, score=0.923 total time=   0.4s\n",
      "[CV 5/5] END criterion=gini, max_depth=8, max_features=sqrt, n_estimators=600;, score=0.923 total time=   0.8s\n",
      "[CV 1/5] END criterion=gini, max_depth=8, max_features=log2, n_estimators=600;, score=0.974 total time=   0.7s\n",
      "[CV 5/5] END criterion=gini, max_depth=12, max_features=sqrt, n_estimators=200;, score=0.923 total time=   0.2s\n",
      "[CV 2/5] END criterion=gini, max_depth=12, max_features=sqrt, n_estimators=600;, score=0.923 total time=   0.7s\n",
      "[CV 1/5] END criterion=gini, max_depth=12, max_features=log2, n_estimators=300;, score=0.974 total time=   0.3s\n",
      "[CV 4/5] END criterion=gini, max_depth=12, max_features=log2, n_estimators=600;, score=0.923 total time=   0.6s\n",
      "[CV 5/5] END criterion=entropy, max_depth=2, max_features=sqrt, n_estimators=300;, score=0.949 total time=   0.3s\n",
      "[CV 3/5] END criterion=entropy, max_depth=2, max_features=log2, n_estimators=100;, score=0.974 total time=   0.1s\n",
      "[CV 1/5] END criterion=entropy, max_depth=2, max_features=log2, n_estimators=200;, score=0.974 total time=   0.2s\n",
      "[CV 4/5] END criterion=entropy, max_depth=2, max_features=log2, n_estimators=200;, score=0.923 total time=   0.2s\n",
      "[CV 1/5] END criterion=entropy, max_depth=2, max_features=log2, n_estimators=600;, score=0.974 total time=   0.7s\n",
      "[CV 3/5] END criterion=entropy, max_depth=3, max_features=sqrt, n_estimators=300;, score=0.974 total time=   0.3s\n",
      "[CV 1/5] END criterion=entropy, max_depth=3, max_features=log2, n_estimators=100;, score=0.974 total time=   0.1s\n",
      "[CV 3/5] END criterion=entropy, max_depth=3, max_features=log2, n_estimators=100;, score=0.974 total time=   0.1s\n",
      "[CV 2/5] END criterion=entropy, max_depth=3, max_features=log2, n_estimators=200;, score=0.949 total time=   0.2s\n",
      "[CV 4/5] END criterion=entropy, max_depth=3, max_features=log2, n_estimators=200;, score=0.923 total time=   0.2s\n",
      "[CV 2/5] END criterion=entropy, max_depth=3, max_features=log2, n_estimators=600;, score=0.949 total time=   0.7s\n",
      "[CV 4/5] END criterion=entropy, max_depth=5, max_features=sqrt, n_estimators=300;, score=0.949 total time=   0.4s\n",
      "[CV 3/5] END criterion=entropy, max_depth=5, max_features=log2, n_estimators=100;, score=0.974 total time=   0.1s\n",
      "[CV 1/5] END criterion=entropy, max_depth=5, max_features=log2, n_estimators=200;, score=0.974 total time=   0.2s\n",
      "[CV 1/5] END criterion=entropy, max_depth=5, max_features=log2, n_estimators=300;, score=0.974 total time=   0.3s\n",
      "[CV 4/5] END criterion=entropy, max_depth=5, max_features=log2, n_estimators=600;, score=0.923 total time=   0.7s\n",
      "[CV 5/5] END criterion=entropy, max_depth=8, max_features=sqrt, n_estimators=300;, score=0.923 total time=   0.3s\n",
      "[CV 3/5] END criterion=entropy, max_depth=8, max_features=log2, n_estimators=100;, score=1.000 total time=   0.1s\n",
      "[CV 1/5] END criterion=entropy, max_depth=8, max_features=log2, n_estimators=200;, score=0.974 total time=   0.2s\n",
      "[CV 4/5] END criterion=entropy, max_depth=8, max_features=log2, n_estimators=200;, score=0.949 total time=   0.2s\n",
      "[CV 3/5] END criterion=entropy, max_depth=8, max_features=log2, n_estimators=600;, score=1.000 total time=   0.7s\n",
      "[CV 4/5] END criterion=entropy, max_depth=12, max_features=sqrt, n_estimators=300;, score=0.949 total time=   0.4s\n",
      "[CV 2/5] END criterion=entropy, max_depth=12, max_features=log2, n_estimators=100;, score=0.923 total time=   0.1s\n",
      "[CV 5/5] END criterion=entropy, max_depth=12, max_features=log2, n_estimators=100;, score=0.949 total time=   0.1s\n",
      "[CV 3/5] END criterion=entropy, max_depth=12, max_features=log2, n_estimators=200;, score=1.000 total time=   0.3s\n",
      "[CV 4/5] END criterion=entropy, max_depth=12, max_features=log2, n_estimators=300;, score=0.949 total time=   0.4s\n",
      "[CV 2/5] END criterion=gini, max_depth=2, max_features=sqrt, n_estimators=200;, score=0.974 total time=   0.2s\n",
      "[CV 4/5] END criterion=gini, max_depth=2, max_features=sqrt, n_estimators=300;, score=0.923 total time=   0.3s\n",
      "[CV 2/5] END criterion=gini, max_depth=2, max_features=log2, n_estimators=100;, score=0.974 total time=   0.1s\n",
      "[CV 5/5] END criterion=gini, max_depth=2, max_features=log2, n_estimators=100;, score=0.949 total time=   0.1s\n",
      "[CV 3/5] END criterion=gini, max_depth=2, max_features=log2, n_estimators=200;, score=0.974 total time=   0.2s\n",
      "[CV 3/5] END criterion=gini, max_depth=2, max_features=log2, n_estimators=300;, score=0.974 total time=   0.3s\n",
      "[CV 1/5] END criterion=gini, max_depth=3, max_features=sqrt, n_estimators=100;, score=0.974 total time=   0.1s\n",
      "[CV 4/5] END criterion=gini, max_depth=3, max_features=sqrt, n_estimators=100;, score=0.923 total time=   0.1s\n",
      "[CV 2/5] END criterion=gini, max_depth=3, max_features=sqrt, n_estimators=200;, score=0.949 total time=   0.2s\n",
      "[CV 1/5] END criterion=gini, max_depth=3, max_features=sqrt, n_estimators=300;, score=0.974 total time=   0.3s\n",
      "[CV 4/5] END criterion=gini, max_depth=3, max_features=sqrt, n_estimators=600;, score=0.923 total time=   0.6s\n",
      "[CV 5/5] END criterion=gini, max_depth=3, max_features=log2, n_estimators=300;, score=0.923 total time=   0.3s\n",
      "[CV 3/5] END criterion=gini, max_depth=5, max_features=sqrt, n_estimators=100;, score=0.974 total time=   0.1s\n",
      "[CV 1/5] END criterion=gini, max_depth=5, max_features=sqrt, n_estimators=200;, score=0.974 total time=   0.2s\n",
      "[CV 1/5] END criterion=gini, max_depth=5, max_features=sqrt, n_estimators=300;, score=0.974 total time=   0.4s\n",
      "[CV 5/5] END criterion=gini, max_depth=5, max_features=sqrt, n_estimators=600;, score=0.949 total time=   0.7s\n",
      "[CV 2/5] END criterion=gini, max_depth=5, max_features=log2, n_estimators=600;, score=0.923 total time=   0.9s\n",
      "[CV 4/5] END criterion=gini, max_depth=8, max_features=sqrt, n_estimators=300;, score=0.949 total time=   0.5s\n",
      "[CV 2/5] END criterion=gini, max_depth=8, max_features=log2, n_estimators=100;, score=0.923 total time=   0.1s\n",
      "[CV 5/5] END criterion=gini, max_depth=8, max_features=log2, n_estimators=100;, score=0.923 total time=   0.1s\n",
      "[CV 3/5] END criterion=gini, max_depth=8, max_features=log2, n_estimators=200;, score=1.000 total time=   0.3s\n",
      "[CV 2/5] END criterion=gini, max_depth=8, max_features=log2, n_estimators=300;, score=0.923 total time=   0.4s\n",
      "[CV 5/5] END criterion=gini, max_depth=8, max_features=log2, n_estimators=600;, score=0.923 total time=   0.7s\n",
      "[CV 3/5] END criterion=gini, max_depth=12, max_features=sqrt, n_estimators=600;, score=1.000 total time=   0.7s\n",
      "[CV 3/5] END criterion=gini, max_depth=12, max_features=log2, n_estimators=300;, score=1.000 total time=   0.3s\n",
      "[CV 1/5] END criterion=entropy, max_depth=2, max_features=sqrt, n_estimators=100;, score=0.974 total time=   0.1s\n",
      "[CV 4/5] END criterion=entropy, max_depth=2, max_features=sqrt, n_estimators=100;, score=0.923 total time=   0.1s\n",
      "[CV 2/5] END criterion=entropy, max_depth=2, max_features=sqrt, n_estimators=200;, score=0.974 total time=   0.2s\n",
      "[CV 1/5] END criterion=entropy, max_depth=2, max_features=sqrt, n_estimators=300;, score=0.974 total time=   0.3s\n",
      "[CV 4/5] END criterion=entropy, max_depth=2, max_features=sqrt, n_estimators=600;, score=0.923 total time=   0.6s\n",
      "[CV 5/5] END criterion=entropy, max_depth=2, max_features=log2, n_estimators=300;, score=0.949 total time=   0.3s\n",
      "[CV 3/5] END criterion=entropy, max_depth=3, max_features=sqrt, n_estimators=100;, score=0.974 total time=   0.1s\n",
      "[CV 1/5] END criterion=entropy, max_depth=3, max_features=sqrt, n_estimators=200;, score=0.974 total time=   0.2s\n",
      "[CV 5/5] END criterion=entropy, max_depth=3, max_features=sqrt, n_estimators=200;, score=0.923 total time=   0.2s\n",
      "[CV 2/5] END criterion=entropy, max_depth=3, max_features=sqrt, n_estimators=600;, score=0.949 total time=   0.7s\n",
      "[CV 4/5] END criterion=entropy, max_depth=3, max_features=log2, n_estimators=300;, score=0.923 total time=   0.3s\n",
      "[CV 2/5] END criterion=entropy, max_depth=5, max_features=sqrt, n_estimators=100;, score=0.923 total time=   0.1s\n",
      "[CV 5/5] END criterion=entropy, max_depth=5, max_features=sqrt, n_estimators=100;, score=0.923 total time=   0.1s\n",
      "[CV 3/5] END criterion=entropy, max_depth=5, max_features=sqrt, n_estimators=200;, score=0.974 total time=   0.2s\n",
      "[CV 2/5] END criterion=entropy, max_depth=5, max_features=sqrt, n_estimators=300;, score=0.923 total time=   0.3s\n",
      "[CV 5/5] END criterion=entropy, max_depth=5, max_features=sqrt, n_estimators=600;, score=0.949 total time=   0.8s\n",
      "[CV 3/5] END criterion=entropy, max_depth=5, max_features=log2, n_estimators=600;, score=0.974 total time=   0.8s\n",
      "[CV 3/5] END criterion=entropy, max_depth=8, max_features=sqrt, n_estimators=600;, score=1.000 total time=   0.6s\n",
      "[CV 2/5] END criterion=entropy, max_depth=8, max_features=log2, n_estimators=300;, score=0.923 total time=   0.3s\n",
      "[CV 5/5] END criterion=entropy, max_depth=8, max_features=log2, n_estimators=600;, score=0.923 total time=   0.7s\n",
      "[CV 1/5] END criterion=entropy, max_depth=12, max_features=sqrt, n_estimators=600;, score=0.974 total time=   0.7s\n",
      "[CV 5/5] END criterion=entropy, max_depth=12, max_features=log2, n_estimators=200;, score=0.923 total time=   0.2s\n",
      "[CV 2/5] END criterion=entropy, max_depth=12, max_features=log2, n_estimators=600;, score=0.923 total time=   0.5s\n",
      "[CV 3/5] END criterion=gini, max_depth=2, max_features=sqrt, n_estimators=100;, score=0.974 total time=   0.1s\n",
      "[CV 3/5] END criterion=gini, max_depth=2, max_features=sqrt, n_estimators=300;, score=0.974 total time=   0.3s\n",
      "[CV 1/5] END criterion=gini, max_depth=2, max_features=log2, n_estimators=100;, score=0.974 total time=   0.1s\n",
      "[CV 4/5] END criterion=gini, max_depth=2, max_features=log2, n_estimators=100;, score=0.923 total time=   0.1s\n",
      "[CV 2/5] END criterion=gini, max_depth=2, max_features=log2, n_estimators=200;, score=0.974 total time=   0.2s\n",
      "[CV 5/5] END criterion=gini, max_depth=2, max_features=log2, n_estimators=200;, score=0.949 total time=   0.3s\n",
      "[CV 3/5] END criterion=gini, max_depth=2, max_features=log2, n_estimators=600;, score=0.974 total time=   0.7s\n",
      "[CV 4/5] END criterion=gini, max_depth=3, max_features=sqrt, n_estimators=300;, score=0.923 total time=   0.3s\n",
      "[CV 2/5] END criterion=gini, max_depth=3, max_features=log2, n_estimators=100;, score=0.974 total time=   0.1s\n",
      "[CV 4/5] END criterion=gini, max_depth=3, max_features=log2, n_estimators=100;, score=0.923 total time=   0.1s\n",
      "[CV 2/5] END criterion=gini, max_depth=3, max_features=log2, n_estimators=200;, score=0.974 total time=   0.2s\n",
      "[CV 5/5] END criterion=gini, max_depth=3, max_features=log2, n_estimators=200;, score=0.923 total time=   0.2s\n",
      "[CV 3/5] END criterion=gini, max_depth=3, max_features=log2, n_estimators=600;, score=0.974 total time=   0.7s\n",
      "[CV 4/5] END criterion=gini, max_depth=5, max_features=sqrt, n_estimators=300;, score=0.949 total time=   0.4s\n",
      "[CV 2/5] END criterion=gini, max_depth=5, max_features=log2, n_estimators=100;, score=0.923 total time=   0.1s\n",
      "[CV 5/5] END criterion=gini, max_depth=5, max_features=log2, n_estimators=100;, score=0.949 total time=   0.1s\n",
      "[CV 3/5] END criterion=gini, max_depth=5, max_features=log2, n_estimators=200;, score=0.974 total time=   0.2s\n",
      "[CV 3/5] END criterion=gini, max_depth=5, max_features=log2, n_estimators=300;, score=0.974 total time=   0.4s\n",
      "[CV 5/5] END criterion=gini, max_depth=5, max_features=log2, n_estimators=600;, score=0.923 total time=   0.9s\n",
      "[CV 3/5] END criterion=gini, max_depth=8, max_features=sqrt, n_estimators=600;, score=1.000 total time=   0.8s\n",
      "[CV 1/5] END criterion=gini, max_depth=8, max_features=log2, n_estimators=300;, score=0.974 total time=   0.4s\n",
      "[CV 4/5] END criterion=gini, max_depth=8, max_features=log2, n_estimators=600;, score=0.949 total time=   0.7s\n",
      "[CV 4/5] END criterion=gini, max_depth=12, max_features=sqrt, n_estimators=300;, score=0.923 total time=   0.3s\n",
      "[CV 3/5] END criterion=gini, max_depth=12, max_features=log2, n_estimators=100;, score=0.974 total time=   0.1s\n",
      "[CV 1/5] END criterion=gini, max_depth=12, max_features=log2, n_estimators=200;, score=0.974 total time=   0.2s\n",
      "[CV 4/5] END criterion=gini, max_depth=12, max_features=log2, n_estimators=200;, score=0.949 total time=   0.2s\n",
      "[CV 2/5] END criterion=gini, max_depth=12, max_features=log2, n_estimators=600;, score=0.923 total time=   0.7s\n",
      "[CV 3/5] END criterion=entropy, max_depth=2, max_features=sqrt, n_estimators=300;, score=0.974 total time=   0.3s\n",
      "[CV 2/5] END criterion=entropy, max_depth=2, max_features=log2, n_estimators=100;, score=0.974 total time=   0.1s\n",
      "[CV 4/5] END criterion=entropy, max_depth=2, max_features=log2, n_estimators=100;, score=0.923 total time=   0.1s\n",
      "[CV 3/5] END criterion=entropy, max_depth=2, max_features=log2, n_estimators=200;, score=0.974 total time=   0.2s\n",
      "[CV 4/5] END criterion=entropy, max_depth=2, max_features=log2, n_estimators=300;, score=0.923 total time=   0.3s\n",
      "[CV 2/5] END criterion=entropy, max_depth=3, max_features=sqrt, n_estimators=100;, score=0.974 total time=   0.1s\n",
      "[CV 4/5] END criterion=entropy, max_depth=3, max_features=sqrt, n_estimators=100;, score=0.923 total time=   0.1s\n",
      "[CV 3/5] END criterion=entropy, max_depth=3, max_features=sqrt, n_estimators=200;, score=0.974 total time=   0.2s\n",
      "[CV 1/5] END criterion=entropy, max_depth=3, max_features=sqrt, n_estimators=300;, score=0.974 total time=   0.3s\n",
      "[CV 4/5] END criterion=entropy, max_depth=3, max_features=sqrt, n_estimators=600;, score=0.923 total time=   0.7s\n",
      "[CV 1/5] END criterion=entropy, max_depth=3, max_features=log2, n_estimators=600;, score=0.974 total time=   0.7s\n",
      "[CV 5/5] END criterion=entropy, max_depth=5, max_features=sqrt, n_estimators=200;, score=0.923 total time=   0.2s\n",
      "[CV 3/5] END criterion=entropy, max_depth=5, max_features=sqrt, n_estimators=600;, score=0.974 total time=   0.6s\n",
      "[CV 3/5] END criterion=entropy, max_depth=5, max_features=log2, n_estimators=300;, score=0.974 total time=   0.3s\n",
      "[CV 1/5] END criterion=entropy, max_depth=8, max_features=sqrt, n_estimators=100;, score=0.974 total time=   0.1s\n",
      "[CV 3/5] END criterion=entropy, max_depth=8, max_features=sqrt, n_estimators=100;, score=1.000 total time=   0.1s\n",
      "[CV 1/5] END criterion=entropy, max_depth=8, max_features=sqrt, n_estimators=200;, score=0.974 total time=   0.2s\n",
      "[CV 4/5] END criterion=entropy, max_depth=8, max_features=sqrt, n_estimators=200;, score=0.949 total time=   0.2s\n",
      "[CV 1/5] END criterion=entropy, max_depth=8, max_features=sqrt, n_estimators=600;, score=0.974 total time=   0.6s\n",
      "[CV 1/5] END criterion=entropy, max_depth=8, max_features=log2, n_estimators=300;, score=0.974 total time=   0.3s\n",
      "[CV 4/5] END criterion=entropy, max_depth=8, max_features=log2, n_estimators=600;, score=0.949 total time=   0.6s\n",
      "[CV 5/5] END criterion=entropy, max_depth=12, max_features=sqrt, n_estimators=300;, score=0.923 total time=   0.3s\n",
      "[CV 3/5] END criterion=entropy, max_depth=12, max_features=log2, n_estimators=100;, score=1.000 total time=   0.1s\n",
      "[CV 1/5] END criterion=entropy, max_depth=12, max_features=log2, n_estimators=200;, score=0.974 total time=   0.2s\n",
      "[CV 4/5] END criterion=entropy, max_depth=12, max_features=log2, n_estimators=200;, score=0.923 total time=   0.2s\n",
      "[CV 3/5] END criterion=entropy, max_depth=12, max_features=log2, n_estimators=600;, score=1.000 total time=   0.6s\n",
      "[CV 1/5] END criterion=gini, max_depth=2, max_features=sqrt, n_estimators=200;, score=0.974 total time=   0.2s\n",
      "[CV 1/5] END criterion=gini, max_depth=2, max_features=sqrt, n_estimators=600;, score=0.974 total time=   0.7s\n",
      "[CV 4/5] END criterion=gini, max_depth=2, max_features=log2, n_estimators=200;, score=0.923 total time=   0.2s\n",
      "[CV 2/5] END criterion=gini, max_depth=2, max_features=log2, n_estimators=600;, score=0.974 total time=   0.7s\n",
      "[CV 2/5] END criterion=gini, max_depth=3, max_features=sqrt, n_estimators=300;, score=0.949 total time=   0.3s\n",
      "[CV 5/5] END criterion=gini, max_depth=3, max_features=sqrt, n_estimators=600;, score=0.923 total time=   0.7s\n",
      "[CV 1/5] END criterion=gini, max_depth=3, max_features=log2, n_estimators=600;, score=0.974 total time=   0.7s\n",
      "[CV 3/5] END criterion=gini, max_depth=5, max_features=sqrt, n_estimators=300;, score=0.974 total time=   0.4s\n",
      "[CV 1/5] END criterion=gini, max_depth=5, max_features=log2, n_estimators=100;, score=0.974 total time=   0.1s\n",
      "[CV 3/5] END criterion=gini, max_depth=5, max_features=log2, n_estimators=100;, score=0.974 total time=   0.1s\n",
      "[CV 1/5] END criterion=gini, max_depth=5, max_features=log2, n_estimators=200;, score=0.974 total time=   0.2s\n",
      "[CV 4/5] END criterion=gini, max_depth=5, max_features=log2, n_estimators=200;, score=0.923 total time=   0.3s\n",
      "[CV 5/5] END criterion=gini, max_depth=5, max_features=log2, n_estimators=300;, score=0.923 total time=   0.4s\n",
      "[CV 3/5] END criterion=gini, max_depth=8, max_features=sqrt, n_estimators=100;, score=1.000 total time=   0.1s\n",
      "[CV 1/5] END criterion=gini, max_depth=8, max_features=sqrt, n_estimators=200;, score=0.974 total time=   0.3s\n",
      "[CV 1/5] END criterion=gini, max_depth=8, max_features=sqrt, n_estimators=300;, score=0.974 total time=   0.4s\n",
      "[CV 4/5] END criterion=gini, max_depth=8, max_features=sqrt, n_estimators=600;, score=0.949 total time=   0.8s\n",
      "[CV 5/5] END criterion=gini, max_depth=8, max_features=log2, n_estimators=300;, score=0.923 total time=   0.3s\n",
      "[CV 2/5] END criterion=gini, max_depth=12, max_features=sqrt, n_estimators=100;, score=0.923 total time=   0.1s\n",
      "[CV 5/5] END criterion=gini, max_depth=12, max_features=sqrt, n_estimators=100;, score=0.923 total time=   0.2s\n",
      "[CV 3/5] END criterion=gini, max_depth=12, max_features=sqrt, n_estimators=200;, score=1.000 total time=   0.3s\n",
      "[CV 5/5] END criterion=gini, max_depth=12, max_features=sqrt, n_estimators=300;, score=0.923 total time=   0.4s\n",
      "[CV 4/5] END criterion=gini, max_depth=12, max_features=log2, n_estimators=100;, score=0.923 total time=   0.1s\n",
      "[CV 2/5] END criterion=gini, max_depth=12, max_features=log2, n_estimators=200;, score=0.923 total time=   0.2s\n",
      "[CV 5/5] END criterion=gini, max_depth=12, max_features=log2, n_estimators=200;, score=0.923 total time=   0.2s\n",
      "[CV 3/5] END criterion=gini, max_depth=12, max_features=log2, n_estimators=600;, score=1.000 total time=   0.6s\n",
      "[CV 4/5] END criterion=entropy, max_depth=2, max_features=sqrt, n_estimators=300;, score=0.923 total time=   0.3s\n",
      "[CV 1/5] END criterion=entropy, max_depth=2, max_features=log2, n_estimators=100;, score=0.974 total time=   0.1s\n",
      "[CV 5/5] END criterion=entropy, max_depth=2, max_features=log2, n_estimators=100;, score=0.949 total time=   0.1s\n",
      "[CV 2/5] END criterion=entropy, max_depth=2, max_features=log2, n_estimators=200;, score=0.974 total time=   0.2s\n",
      "[CV 2/5] END criterion=entropy, max_depth=2, max_features=log2, n_estimators=300;, score=0.974 total time=   0.3s\n",
      "[CV 1/5] END criterion=entropy, max_depth=3, max_features=sqrt, n_estimators=100;, score=0.974 total time=   0.1s\n",
      "[CV 5/5] END criterion=entropy, max_depth=3, max_features=sqrt, n_estimators=100;, score=0.923 total time=   0.1s\n",
      "[CV 2/5] END criterion=entropy, max_depth=3, max_features=sqrt, n_estimators=200;, score=0.949 total time=   0.2s\n",
      "[CV 4/5] END criterion=entropy, max_depth=3, max_features=sqrt, n_estimators=200;, score=0.923 total time=   0.2s\n",
      "[CV 1/5] END criterion=entropy, max_depth=3, max_features=sqrt, n_estimators=600;, score=0.974 total time=   0.7s\n",
      "[CV 3/5] END criterion=entropy, max_depth=3, max_features=log2, n_estimators=300;, score=0.974 total time=   0.3s\n",
      "[CV 1/5] END criterion=entropy, max_depth=5, max_features=sqrt, n_estimators=100;, score=0.974 total time=   0.1s\n",
      "[CV 4/5] END criterion=entropy, max_depth=5, max_features=sqrt, n_estimators=100;, score=0.949 total time=   0.1s\n",
      "[CV 2/5] END criterion=entropy, max_depth=5, max_features=sqrt, n_estimators=200;, score=0.923 total time=   0.2s\n",
      "[CV 1/5] END criterion=entropy, max_depth=5, max_features=sqrt, n_estimators=300;, score=0.974 total time=   0.3s\n",
      "[CV 4/5] END criterion=entropy, max_depth=5, max_features=sqrt, n_estimators=600;, score=0.949 total time=   0.7s\n",
      "[CV 5/5] END criterion=entropy, max_depth=5, max_features=log2, n_estimators=300;, score=0.949 total time=   0.3s\n",
      "[CV 4/5] END criterion=entropy, max_depth=8, max_features=sqrt, n_estimators=100;, score=0.923 total time=   0.1s\n",
      "[CV 2/5] END criterion=entropy, max_depth=8, max_features=sqrt, n_estimators=200;, score=0.923 total time=   0.2s\n",
      "[CV 5/5] END criterion=entropy, max_depth=8, max_features=sqrt, n_estimators=200;, score=0.923 total time=   0.2s\n",
      "[CV 2/5] END criterion=entropy, max_depth=8, max_features=sqrt, n_estimators=600;, score=0.923 total time=   0.7s\n",
      "[CV 3/5] END criterion=entropy, max_depth=8, max_features=log2, n_estimators=300;, score=1.000 total time=   0.3s\n",
      "[CV 1/5] END criterion=entropy, max_depth=12, max_features=sqrt, n_estimators=100;, score=0.974 total time=   0.1s\n",
      "[CV 4/5] END criterion=entropy, max_depth=12, max_features=sqrt, n_estimators=100;, score=0.923 total time=   0.1s\n",
      "[CV 3/5] END criterion=entropy, max_depth=12, max_features=sqrt, n_estimators=200;, score=1.000 total time=   0.2s\n",
      "[CV 2/5] END criterion=entropy, max_depth=12, max_features=sqrt, n_estimators=300;, score=0.923 total time=   0.3s\n",
      "[CV 5/5] END criterion=entropy, max_depth=12, max_features=sqrt, n_estimators=600;, score=0.923 total time=   0.6s\n",
      "[CV 1/5] END criterion=entropy, max_depth=12, max_features=log2, n_estimators=600;, score=0.974 total time=   0.6s\n",
      "[CV 4/5] END criterion=gini, max_depth=2, max_features=sqrt, n_estimators=100;, score=0.923 total time=   0.1s\n",
      "[CV 4/5] END criterion=gini, max_depth=2, max_features=sqrt, n_estimators=200;, score=0.923 total time=   0.2s\n",
      "[CV 2/5] END criterion=gini, max_depth=2, max_features=sqrt, n_estimators=600;, score=0.974 total time=   0.7s\n",
      "[CV 2/5] END criterion=gini, max_depth=2, max_features=log2, n_estimators=300;, score=0.974 total time=   0.3s\n",
      "[CV 5/5] END criterion=gini, max_depth=2, max_features=log2, n_estimators=600;, score=0.949 total time=   0.7s\n",
      "[CV 2/5] END criterion=gini, max_depth=3, max_features=sqrt, n_estimators=600;, score=0.949 total time=   0.7s\n",
      "[CV 3/5] END criterion=gini, max_depth=3, max_features=log2, n_estimators=300;, score=0.974 total time=   0.3s\n",
      "[CV 2/5] END criterion=gini, max_depth=5, max_features=sqrt, n_estimators=100;, score=0.923 total time=   0.1s\n",
      "[CV 4/5] END criterion=gini, max_depth=5, max_features=sqrt, n_estimators=100;, score=0.923 total time=   0.1s\n",
      "[CV 3/5] END criterion=gini, max_depth=5, max_features=sqrt, n_estimators=200;, score=0.974 total time=   0.2s\n",
      "[CV 2/5] END criterion=gini, max_depth=5, max_features=sqrt, n_estimators=300;, score=0.923 total time=   0.3s\n",
      "[CV 4/5] END criterion=gini, max_depth=5, max_features=sqrt, n_estimators=600;, score=0.923 total time=   0.7s\n",
      "[CV 1/5] END criterion=gini, max_depth=5, max_features=log2, n_estimators=600;, score=0.974 total time=   0.9s\n",
      "[CV 5/5] END criterion=gini, max_depth=8, max_features=sqrt, n_estimators=200;, score=0.923 total time=   0.2s\n",
      "[CV 1/5] END criterion=gini, max_depth=8, max_features=sqrt, n_estimators=600;, score=0.974 total time=   0.9s\n",
      "[CV 3/5] END criterion=gini, max_depth=8, max_features=log2, n_estimators=300;, score=1.000 total time=   0.4s\n",
      "[CV 1/5] END criterion=gini, max_depth=12, max_features=sqrt, n_estimators=100;, score=0.974 total time=   0.1s\n",
      "[CV 4/5] END criterion=gini, max_depth=12, max_features=sqrt, n_estimators=100;, score=0.949 total time=   0.1s\n",
      "[CV 2/5] END criterion=gini, max_depth=12, max_features=sqrt, n_estimators=200;, score=0.923 total time=   0.2s\n",
      "[CV 1/5] END criterion=gini, max_depth=12, max_features=sqrt, n_estimators=300;, score=0.974 total time=   0.3s\n",
      "[CV 5/5] END criterion=gini, max_depth=12, max_features=sqrt, n_estimators=600;, score=0.923 total time=   0.7s\n",
      "[CV 1/5] END criterion=gini, max_depth=12, max_features=log2, n_estimators=600;, score=0.974 total time=   0.6s\n",
      "[CV 4/5] END criterion=entropy, max_depth=2, max_features=sqrt, n_estimators=200;, score=0.923 total time=   0.2s\n",
      "[CV 1/5] END criterion=entropy, max_depth=2, max_features=sqrt, n_estimators=600;, score=0.974 total time=   0.7s\n",
      "[CV 5/5] END criterion=entropy, max_depth=2, max_features=log2, n_estimators=200;, score=0.949 total time=   0.3s\n",
      "[CV 3/5] END criterion=entropy, max_depth=2, max_features=log2, n_estimators=600;, score=0.974 total time=   0.6s\n",
      "[CV 4/5] END criterion=entropy, max_depth=3, max_features=sqrt, n_estimators=300;, score=0.923 total time=   0.3s\n",
      "[CV 2/5] END criterion=entropy, max_depth=3, max_features=log2, n_estimators=100;, score=0.949 total time=   0.1s\n",
      "[CV 5/5] END criterion=entropy, max_depth=3, max_features=log2, n_estimators=100;, score=0.949 total time=   0.1s\n",
      "[CV 3/5] END criterion=entropy, max_depth=3, max_features=log2, n_estimators=200;, score=0.974 total time=   0.2s\n",
      "[CV 1/5] END criterion=entropy, max_depth=3, max_features=log2, n_estimators=300;, score=0.974 total time=   0.3s\n",
      "[CV 4/5] END criterion=entropy, max_depth=3, max_features=log2, n_estimators=600;, score=0.923 total time=   0.6s\n",
      "[CV 5/5] END criterion=entropy, max_depth=5, max_features=sqrt, n_estimators=300;, score=0.949 total time=   0.3s\n",
      "[CV 2/5] END criterion=entropy, max_depth=5, max_features=log2, n_estimators=100;, score=0.923 total time=   0.1s\n",
      "[CV 5/5] END criterion=entropy, max_depth=5, max_features=log2, n_estimators=100;, score=0.923 total time=   0.1s\n",
      "[CV 3/5] END criterion=entropy, max_depth=5, max_features=log2, n_estimators=200;, score=0.974 total time=   0.2s\n",
      "[CV 4/5] END criterion=entropy, max_depth=5, max_features=log2, n_estimators=300;, score=0.923 total time=   0.3s\n",
      "[CV 2/5] END criterion=entropy, max_depth=8, max_features=sqrt, n_estimators=100;, score=0.923 total time=   0.1s\n",
      "[CV 5/5] END criterion=entropy, max_depth=8, max_features=sqrt, n_estimators=100;, score=0.923 total time=   0.1s\n",
      "[CV 3/5] END criterion=entropy, max_depth=8, max_features=sqrt, n_estimators=200;, score=1.000 total time=   0.2s\n",
      "[CV 1/5] END criterion=entropy, max_depth=8, max_features=sqrt, n_estimators=300;, score=0.974 total time=   0.4s\n",
      "[CV 5/5] END criterion=entropy, max_depth=8, max_features=sqrt, n_estimators=600;, score=0.923 total time=   0.7s\n",
      "[CV 1/5] END criterion=entropy, max_depth=8, max_features=log2, n_estimators=600;, score=0.974 total time=   0.6s\n",
      "[CV 4/5] END criterion=entropy, max_depth=12, max_features=sqrt, n_estimators=200;, score=0.897 total time=   0.2s\n",
      "[CV 2/5] END criterion=entropy, max_depth=12, max_features=sqrt, n_estimators=600;, score=0.923 total time=   0.6s\n",
      "[CV 1/5] END criterion=entropy, max_depth=12, max_features=log2, n_estimators=300;, score=0.974 total time=   0.3s\n",
      "[CV 4/5] END criterion=entropy, max_depth=12, max_features=log2, n_estimators=600;, score=0.949 total time=   0.5s\n",
      "[CV 1/5] END criterion=gini, max_depth=2, max_features=sqrt, n_estimators=100;, score=0.974 total time=   0.1s\n",
      "[CV 2/5] END criterion=gini, max_depth=2, max_features=sqrt, n_estimators=300;, score=0.974 total time=   0.3s\n",
      "[CV 5/5] END criterion=gini, max_depth=2, max_features=sqrt, n_estimators=600;, score=0.949 total time=   0.7s\n",
      "[CV 5/5] END criterion=gini, max_depth=2, max_features=log2, n_estimators=300;, score=0.949 total time=   0.3s\n",
      "[CV 3/5] END criterion=gini, max_depth=3, max_features=sqrt, n_estimators=100;, score=0.974 total time=   0.1s\n",
      "[CV 1/5] END criterion=gini, max_depth=3, max_features=sqrt, n_estimators=200;, score=0.974 total time=   0.2s\n",
      "[CV 4/5] END criterion=gini, max_depth=3, max_features=sqrt, n_estimators=200;, score=0.923 total time=   0.2s\n",
      "[CV 5/5] END criterion=gini, max_depth=3, max_features=sqrt, n_estimators=300;, score=0.949 total time=   0.3s\n",
      "[CV 5/5] END criterion=gini, max_depth=3, max_features=log2, n_estimators=100;, score=0.949 total time=   0.1s\n",
      "[CV 3/5] END criterion=gini, max_depth=3, max_features=log2, n_estimators=200;, score=0.974 total time=   0.2s\n",
      "[CV 1/5] END criterion=gini, max_depth=3, max_features=log2, n_estimators=300;, score=0.974 total time=   0.3s\n",
      "[CV 4/5] END criterion=gini, max_depth=3, max_features=log2, n_estimators=600;, score=0.923 total time=   0.7s\n",
      "[CV 1/5] END criterion=gini, max_depth=5, max_features=sqrt, n_estimators=600;, score=0.974 total time=   0.7s\n",
      "[CV 2/5] END criterion=gini, max_depth=5, max_features=log2, n_estimators=300;, score=0.923 total time=   0.5s\n",
      "[CV 2/5] END criterion=gini, max_depth=8, max_features=sqrt, n_estimators=100;, score=0.923 total time=   0.2s\n",
      "[CV 5/5] END criterion=gini, max_depth=8, max_features=sqrt, n_estimators=100;, score=0.923 total time=   0.2s\n",
      "[CV 3/5] END criterion=gini, max_depth=8, max_features=sqrt, n_estimators=200;, score=1.000 total time=   0.3s\n",
      "[CV 3/5] END criterion=gini, max_depth=8, max_features=sqrt, n_estimators=300;, score=1.000 total time=   0.5s\n",
      "[CV 1/5] END criterion=gini, max_depth=8, max_features=log2, n_estimators=100;, score=0.974 total time=   0.2s\n",
      "[CV 4/5] END criterion=gini, max_depth=8, max_features=log2, n_estimators=100;, score=0.923 total time=   0.1s\n",
      "[CV 2/5] END criterion=gini, max_depth=8, max_features=log2, n_estimators=200;, score=0.923 total time=   0.3s\n",
      "[CV 5/5] END criterion=gini, max_depth=8, max_features=log2, n_estimators=200;, score=0.923 total time=   0.3s\n",
      "[CV 3/5] END criterion=gini, max_depth=8, max_features=log2, n_estimators=600;, score=1.000 total time=   0.7s\n",
      "[CV 2/5] END criterion=gini, max_depth=12, max_features=sqrt, n_estimators=300;, score=0.923 total time=   0.3s\n",
      "[CV 4/5] END criterion=gini, max_depth=12, max_features=sqrt, n_estimators=600;, score=0.923 total time=   0.7s\n",
      "[CV 5/5] END criterion=gini, max_depth=12, max_features=log2, n_estimators=300;, score=0.949 total time=   0.3s\n",
      "[CV 3/5] END criterion=entropy, max_depth=2, max_features=sqrt, n_estimators=100;, score=0.974 total time=   0.1s\n",
      "[CV 1/5] END criterion=entropy, max_depth=2, max_features=sqrt, n_estimators=200;, score=0.974 total time=   0.2s\n",
      "[CV 5/5] END criterion=entropy, max_depth=2, max_features=sqrt, n_estimators=200;, score=0.949 total time=   0.2s\n",
      "[CV 3/5] END criterion=entropy, max_depth=2, max_features=sqrt, n_estimators=600;, score=0.974 total time=   0.7s\n",
      "[CV 3/5] END criterion=entropy, max_depth=2, max_features=log2, n_estimators=300;, score=0.974 total time=   0.3s\n",
      "[CV 5/5] END criterion=entropy, max_depth=2, max_features=log2, n_estimators=600;, score=0.949 total time=   0.7s\n",
      "[CV 3/5] END criterion=entropy, max_depth=3, max_features=sqrt, n_estimators=600;, score=0.974 total time=   0.6s\n",
      "[CV 2/5] END criterion=entropy, max_depth=3, max_features=log2, n_estimators=300;, score=0.974 total time=   0.3s\n",
      "[CV 5/5] END criterion=entropy, max_depth=3, max_features=log2, n_estimators=600;, score=0.949 total time=   0.7s\n",
      "[CV 2/5] END criterion=entropy, max_depth=5, max_features=sqrt, n_estimators=600;, score=0.923 total time=   0.6s\n",
      "[CV 4/5] END criterion=entropy, max_depth=5, max_features=log2, n_estimators=200;, score=0.949 total time=   0.2s\n",
      "[CV 1/5] END criterion=entropy, max_depth=5, max_features=log2, n_estimators=600;, score=0.974 total time=   0.6s\n",
      "[CV 2/5] END criterion=entropy, max_depth=8, max_features=sqrt, n_estimators=300;, score=0.923 total time=   0.3s\n",
      "[CV 4/5] END criterion=entropy, max_depth=8, max_features=sqrt, n_estimators=600;, score=0.949 total time=   0.7s\n",
      "[CV 5/5] END criterion=entropy, max_depth=8, max_features=log2, n_estimators=300;, score=0.923 total time=   0.4s\n",
      "[CV 3/5] END criterion=entropy, max_depth=12, max_features=sqrt, n_estimators=100;, score=1.000 total time=   0.1s\n",
      "[CV 1/5] END criterion=entropy, max_depth=12, max_features=sqrt, n_estimators=200;, score=0.974 total time=   0.2s\n",
      "[CV 5/5] END criterion=entropy, max_depth=12, max_features=sqrt, n_estimators=200;, score=0.923 total time=   0.2s\n",
      "[CV 3/5] END criterion=entropy, max_depth=12, max_features=sqrt, n_estimators=600;, score=1.000 total time=   0.7s\n",
      "[CV 3/5] END criterion=entropy, max_depth=12, max_features=log2, n_estimators=300;, score=1.000 total time=   0.3s\n",
      "[CV 5/5] END criterion=entropy, max_depth=12, max_features=log2, n_estimators=600;, score=0.923 total time=   0.5s\n"
     ]
    }
   ],
   "source": [
    "accuracy_score(y_test,y_pred)"
   ]
  },
  {
   "cell_type": "code",
   "execution_count": null,
   "id": "500e5234-4eae-4522-bcd5-fdbe79c8cdf4",
   "metadata": {},
   "outputs": [],
   "source": []
  }
 ],
 "metadata": {
  "kernelspec": {
   "display_name": "Python 3 (ipykernel)",
   "language": "python",
   "name": "python3"
  },
  "language_info": {
   "codemirror_mode": {
    "name": "ipython",
    "version": 3
   },
   "file_extension": ".py",
   "mimetype": "text/x-python",
   "name": "python",
   "nbconvert_exporter": "python",
   "pygments_lexer": "ipython3",
   "version": "3.9.12"
  }
 },
 "nbformat": 4,
 "nbformat_minor": 5
}
